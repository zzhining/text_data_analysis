{
  "cells": [
    {
      "cell_type": "markdown",
      "metadata": {
        "id": "view-in-github",
        "colab_type": "text"
      },
      "source": [
        "<a href=\"https://colab.research.google.com/github/zzhining/text_data_analysis/blob/main/exercise/text_data_analysis_tfidf.ipynb\" target=\"_parent\"><img src=\"https://colab.research.google.com/assets/colab-badge.svg\" alt=\"Open In Colab\"/></a>"
      ]
    },
    {
      "cell_type": "code",
      "source": [
        "!pip install konlpy"
      ],
      "metadata": {
        "colab": {
          "base_uri": "https://localhost:8080/"
        },
        "id": "v4wGsD-VrdK9",
        "outputId": "233de072-b1e1-49d6-fd04-6ec17c769bae",
        "collapsed": true
      },
      "execution_count": 1,
      "outputs": [
        {
          "output_type": "stream",
          "name": "stdout",
          "text": [
            "Collecting konlpy\n",
            "  Downloading konlpy-0.6.0-py2.py3-none-any.whl.metadata (1.9 kB)\n",
            "Collecting JPype1>=0.7.0 (from konlpy)\n",
            "  Downloading JPype1-1.5.0-cp310-cp310-manylinux_2_17_x86_64.manylinux2014_x86_64.whl.metadata (4.9 kB)\n",
            "Requirement already satisfied: lxml>=4.1.0 in /usr/local/lib/python3.10/dist-packages (from konlpy) (4.9.4)\n",
            "Requirement already satisfied: numpy>=1.6 in /usr/local/lib/python3.10/dist-packages (from konlpy) (1.26.4)\n",
            "Requirement already satisfied: packaging in /usr/local/lib/python3.10/dist-packages (from JPype1>=0.7.0->konlpy) (24.1)\n",
            "Downloading konlpy-0.6.0-py2.py3-none-any.whl (19.4 MB)\n",
            "\u001b[2K   \u001b[90m━━━━━━━━━━━━━━━━━━━━━━━━━━━━━━━━━━━━━━━━\u001b[0m \u001b[32m19.4/19.4 MB\u001b[0m \u001b[31m44.6 MB/s\u001b[0m eta \u001b[36m0:00:00\u001b[0m\n",
            "\u001b[?25hDownloading JPype1-1.5.0-cp310-cp310-manylinux_2_17_x86_64.manylinux2014_x86_64.whl (488 kB)\n",
            "\u001b[2K   \u001b[90m━━━━━━━━━━━━━━━━━━━━━━━━━━━━━━━━━━━━━━━━\u001b[0m \u001b[32m488.6/488.6 kB\u001b[0m \u001b[31m28.1 MB/s\u001b[0m eta \u001b[36m0:00:00\u001b[0m\n",
            "\u001b[?25hInstalling collected packages: JPype1, konlpy\n",
            "Successfully installed JPype1-1.5.0 konlpy-0.6.0\n"
          ]
        }
      ]
    },
    {
      "cell_type": "markdown",
      "metadata": {
        "id": "suDQ_6iO9fwJ"
      },
      "source": [
        "<br>\n",
        "<br>\n",
        "\n",
        "# Bag-of-Words(BoW)\n",
        "- 단어가 몇 개 들어있나?(단어의 빈도 수)"
      ]
    },
    {
      "cell_type": "code",
      "execution_count": 2,
      "metadata": {
        "id": "CDELvci49fwK",
        "outputId": "b9460b52-0f89-4932-c000-3a0785590a58",
        "colab": {
          "base_uri": "https://localhost:8080/"
        }
      },
      "outputs": [
        {
          "output_type": "stream",
          "name": "stdout",
          "text": [
            "['나', '의', '살던', '고향', '은', '꽃', '피는', '산골']\n"
          ]
        }
      ],
      "source": [
        "# 한국어 형태소 분석기 중 하나인 Okt\n",
        "from konlpy.tag import Okt\n",
        "# Okt 인스턴스 생성\n",
        "tokenizer = Okt()\n",
        "# 분석할 텍스트\n",
        "text = \"나의 살던 고향은 꽃피는 산골\"\n",
        "# 형태소 분석 - 형태소 기준으로 입력 문장을 쪼갠 결과 반환\n",
        "tokens = tokenizer.morphs(text)\n",
        "# 토큰화 결과 출력\n",
        "print(tokens)"
      ]
    },
    {
      "cell_type": "code",
      "execution_count": 3,
      "metadata": {
        "id": "rlETyDP49fwL",
        "outputId": "3d4b4b55-5897-45e0-f8ec-b9a5d823a8d2",
        "colab": {
          "base_uri": "https://localhost:8080/"
        }
      },
      "outputs": [
        {
          "output_type": "stream",
          "name": "stdout",
          "text": [
            "{'나': 0, '의': 1, '살던': 2, '고향': 3, '은': 4, '꽃': 5, '피는': 6, '산골': 7}\n"
          ]
        }
      ],
      "source": [
        "# 단어-인덱스 딕셔너리{key(token):value(index)}\n",
        "word_to_index = {}\n",
        "\n",
        "# 토큰을 인덱스로 변환\n",
        "for token in tokens: # 입력 문장의 토큰을 하나씩 확인\n",
        "    if token not in word_to_index.keys(): # 생성한 딕셔너리에 토큰이 없다면\n",
        "        word_to_index[token] = len(word_to_index) # 딕셔너리에 값을 추가: 토큰을 key, 딕셔너리의 길이를 value\n",
        "\n",
        "print(word_to_index)"
      ]
    },
    {
      "cell_type": "code",
      "execution_count": 4,
      "metadata": {
        "id": "u8BAu_YS9fwL"
      },
      "outputs": [],
      "source": [
        "# BoW로 변환\n",
        "def convert_bow(sentence, word_to_index):\n",
        "\n",
        "    # 벡터를 단어의 개수만큼 0으로 초기화\n",
        "    vector = [0]*(len(word_to_index))\n",
        "\n",
        "    # 문장을 토큰으로 분리\n",
        "    tokenizer = Okt()\n",
        "    tokens = tokenizer.morphs(sentence)\n",
        "\n",
        "    # 단어의 인덱스 위치에 1 설정\n",
        "    for token in tokens:\n",
        "        if token in word_to_index.keys():\n",
        "            vector[word_to_index[token]] += 1\n",
        "\n",
        "    return vector"
      ]
    },
    {
      "cell_type": "code",
      "source": [
        "print(word_to_index)"
      ],
      "metadata": {
        "colab": {
          "base_uri": "https://localhost:8080/"
        },
        "id": "Je5Os0U9Zxsq",
        "outputId": "8c00357b-a719-4db0-a3cc-adae0fc7a0c7"
      },
      "execution_count": 5,
      "outputs": [
        {
          "output_type": "stream",
          "name": "stdout",
          "text": [
            "{'나': 0, '의': 1, '살던': 2, '고향': 3, '은': 4, '꽃': 5, '피는': 6, '산골': 7}\n"
          ]
        }
      ]
    },
    {
      "cell_type": "markdown",
      "source": [
        "\"벡터화\" (숫자 + 방향성)\n",
        "- 의미를 반영한 수치 값으로 변경하는 작업\n"
      ],
      "metadata": {
        "id": "aPcWIcZkL8N9"
      }
    },
    {
      "cell_type": "code",
      "execution_count": 6,
      "metadata": {
        "id": "6tDJmbzn9fwM",
        "outputId": "0176ce69-8f1a-4bbf-93cd-297c6d645fe6",
        "colab": {
          "base_uri": "https://localhost:8080/"
        }
      },
      "outputs": [
        {
          "output_type": "execute_result",
          "data": {
            "text/plain": [
              "[0, 0, 0, 0, 0, 2, 0, 0]"
            ]
          },
          "metadata": {},
          "execution_count": 6
        }
      ],
      "source": [
        "convert_bow(\"복숭아 꽃 살구 꽃 아기 진달래\", word_to_index)"
      ]
    },
    {
      "cell_type": "code",
      "source": [
        "tokenizer.morphs(\"나의 고향은 산골입니다.\")"
      ],
      "metadata": {
        "colab": {
          "base_uri": "https://localhost:8080/"
        },
        "id": "odxSBsIyNAv9",
        "outputId": "cdf58547-e765-4727-e61f-26e770d364ab"
      },
      "execution_count": 10,
      "outputs": [
        {
          "output_type": "execute_result",
          "data": {
            "text/plain": [
              "['나', '의', '고향', '은', '산골', '입니다', '.']"
            ]
          },
          "metadata": {},
          "execution_count": 10
        }
      ]
    },
    {
      "cell_type": "code",
      "source": [
        "word_to_index"
      ],
      "metadata": {
        "colab": {
          "base_uri": "https://localhost:8080/"
        },
        "id": "yG9PnVbnNHXV",
        "outputId": "b46ed45b-3c83-4712-b4b5-ec672d7b00dd"
      },
      "execution_count": 11,
      "outputs": [
        {
          "output_type": "execute_result",
          "data": {
            "text/plain": [
              "{'나': 0, '의': 1, '살던': 2, '고향': 3, '은': 4, '꽃': 5, '피는': 6, '산골': 7}"
            ]
          },
          "metadata": {},
          "execution_count": 11
        }
      ]
    },
    {
      "cell_type": "code",
      "execution_count": 9,
      "metadata": {
        "id": "ASWoy5T69fwM",
        "outputId": "24e034ee-716c-4a97-89ee-dcf865005bf3",
        "colab": {
          "base_uri": "https://localhost:8080/"
        }
      },
      "outputs": [
        {
          "output_type": "execute_result",
          "data": {
            "text/plain": [
              "[1, 1, 0, 1, 1, 0, 0, 1]"
            ]
          },
          "metadata": {},
          "execution_count": 9
        }
      ],
      "source": [
        "#                 ['나', '의', '고향', '은', '산골', '입니다', '.']\n",
        "# word_to_index : {'나': 0, '의': 1, '살던': 2, '고향': 3, '은': 4, '꽃': 5, '피는': 6, '산골': 7}\n",
        "convert_bow(\"나의 고향은 산골입니다.\", word_to_index)"
      ]
    },
    {
      "cell_type": "markdown",
      "metadata": {
        "id": "v4qqOY-o9fwP"
      },
      "source": [
        "<br>\n",
        "<br>\n",
        "\n",
        "# TF-IDF"
      ]
    },
    {
      "cell_type": "markdown",
      "source": [
        "sklearn(사이킷런)\n",
        "- 머신러닝에 필요한 다양한 기능을 제공하는 패키지"
      ],
      "metadata": {
        "id": "WKhlYq-kTrNr"
      }
    },
    {
      "cell_type": "code",
      "source": [
        "from sklearn.feature_extraction.text import TfidfVectorizer\n",
        "\n",
        "documents = [\n",
        "    '나의 살던 고향은 꽃 피는 산골', # 문서1\n",
        "    '복숭아 꽃 살구 꽃 아기 진달래', # 문서2\n",
        "    '울긋불긋 꽃 대궐 차리인 동네',  # 문서3\n",
        "    '그 속에서 놀던 때가 그립습니다' # 문서4\n",
        "]\n",
        "\n",
        "# TF-IDF로 벡터화\n",
        "# 1글자도 인식이 되도록 토큰 패턴 변경\n",
        "tf_idf = TfidfVectorizer(token_pattern = r\"(?u)\\b\\w+\\b\")\n",
        "tf_idf.fit(documents)\n",
        "\n",
        "print(tf_idf.vocabulary_)"
      ],
      "metadata": {
        "colab": {
          "base_uri": "https://localhost:8080/"
        },
        "id": "wB29cT64Wf6n",
        "outputId": "7829b34c-518d-486b-c940-0ef12a8e8bd6"
      },
      "execution_count": 14,
      "outputs": [
        {
          "output_type": "stream",
          "name": "stdout",
          "text": [
            "{'나의': 4, '살던': 12, '고향은': 0, '꽃': 3, '피는': 18, '산골': 10, '복숭아': 9, '살구': 11, '아기': 14, '진달래': 16, '울긋불긋': 15, '대궐': 6, '차리인': 17, '동네': 7, '그': 1, '속에서': 13, '놀던': 5, '때가': 8, '그립습니다': 2}\n"
          ]
        }
      ]
    },
    {
      "cell_type": "code",
      "source": [
        "tf_idf_dict = {v:k for k,v in tf_idf.vocabulary_.items()}"
      ],
      "metadata": {
        "id": "bpX9n6xdXz4r"
      },
      "execution_count": 16,
      "outputs": []
    },
    {
      "cell_type": "code",
      "source": [
        "tf_idf_dict"
      ],
      "metadata": {
        "colab": {
          "base_uri": "https://localhost:8080/"
        },
        "id": "YKPxL55DV24E",
        "outputId": "337917e1-f790-428f-a5b4-bd00a9a16113"
      },
      "execution_count": 18,
      "outputs": [
        {
          "output_type": "execute_result",
          "data": {
            "text/plain": [
              "{4: '나의',\n",
              " 12: '살던',\n",
              " 0: '고향은',\n",
              " 3: '꽃',\n",
              " 18: '피는',\n",
              " 10: '산골',\n",
              " 9: '복숭아',\n",
              " 11: '살구',\n",
              " 14: '아기',\n",
              " 16: '진달래',\n",
              " 15: '울긋불긋',\n",
              " 6: '대궐',\n",
              " 17: '차리인',\n",
              " 7: '동네',\n",
              " 1: '그',\n",
              " 13: '속에서',\n",
              " 5: '놀던',\n",
              " 8: '때가',\n",
              " 2: '그립습니다'}"
            ]
          },
          "metadata": {},
          "execution_count": 18
        }
      ]
    },
    {
      "cell_type": "code",
      "source": [
        "# 다른 문서에도 많이 나온 단어는 낮은 수치\n",
        "tf_idf.transform(['꽃 동네 새 동네 나의 옛고향']).toarray()"
      ],
      "metadata": {
        "colab": {
          "base_uri": "https://localhost:8080/"
        },
        "id": "UEVOT1DmWpdi",
        "outputId": "327ade85-07a6-466c-f29f-d34cca1aed8d"
      },
      "execution_count": null,
      "outputs": [
        {
          "output_type": "execute_result",
          "data": {
            "text/plain": [
              "array([[0.        , 0.        , 0.        , 0.27448674, 0.43003652,\n",
              "        0.        , 0.        , 0.86007303, 0.        , 0.        ,\n",
              "        0.        , 0.        , 0.        , 0.        , 0.        ,\n",
              "        0.        , 0.        , 0.        , 0.        ]])"
            ]
          },
          "metadata": {},
          "execution_count": 10
        }
      ]
    },
    {
      "cell_type": "code",
      "source": [
        "tf_idf_dict[3], tf_idf_dict[4], tf_idf_dict[7]"
      ],
      "metadata": {
        "colab": {
          "base_uri": "https://localhost:8080/"
        },
        "id": "DER6jaRpYlCM",
        "outputId": "fb6f3891-b502-4018-a7a9-4f925e42e985"
      },
      "execution_count": null,
      "outputs": [
        {
          "output_type": "execute_result",
          "data": {
            "text/plain": [
              "('꽃', '나의', '동네')"
            ]
          },
          "metadata": {},
          "execution_count": 11
        }
      ]
    },
    {
      "cell_type": "code",
      "source": [
        "# 같은 문서에 많이 나온 단어는 높은 수치\n",
        "tf_idf.transform(['복숭아 같은 아기 얼굴, 진달래 같은 아기 얼굴']).toarray()"
      ],
      "metadata": {
        "colab": {
          "base_uri": "https://localhost:8080/"
        },
        "id": "HF5QRJOGW2c7",
        "outputId": "326a8c49-3c07-4bf0-b970-31388ce469c8"
      },
      "execution_count": null,
      "outputs": [
        {
          "output_type": "execute_result",
          "data": {
            "text/plain": [
              "array([[0.        , 0.        , 0.        , 0.        , 0.        ,\n",
              "        0.        , 0.        , 0.        , 0.        , 0.40824829,\n",
              "        0.        , 0.        , 0.        , 0.        , 0.81649658,\n",
              "        0.        , 0.40824829, 0.        , 0.        ]])"
            ]
          },
          "metadata": {},
          "execution_count": 12
        }
      ]
    },
    {
      "cell_type": "code",
      "source": [
        "tf_idf_dict[9], tf_idf_dict[14], tf_idf_dict[16]"
      ],
      "metadata": {
        "colab": {
          "base_uri": "https://localhost:8080/"
        },
        "id": "cNR5c_R-XXF-",
        "outputId": "3adfdf98-67ba-4342-9b67-3c186da34945"
      },
      "execution_count": null,
      "outputs": [
        {
          "output_type": "execute_result",
          "data": {
            "text/plain": [
              "('복숭아', '아기', '진달래')"
            ]
          },
          "metadata": {},
          "execution_count": 13
        }
      ]
    }
  ],
  "metadata": {
    "kernelspec": {
      "display_name": "Python 3",
      "language": "python",
      "name": "python3"
    },
    "language_info": {
      "codemirror_mode": {
        "name": "ipython",
        "version": 3
      },
      "file_extension": ".py",
      "mimetype": "text/x-python",
      "name": "python",
      "nbconvert_exporter": "python",
      "pygments_lexer": "ipython3",
      "version": "3.7.6"
    },
    "toc": {
      "base_numbering": 1,
      "nav_menu": {},
      "number_sections": false,
      "sideBar": true,
      "skip_h1_title": false,
      "title_cell": "Table of Contents",
      "title_sidebar": "Contents",
      "toc_cell": false,
      "toc_position": {},
      "toc_section_display": true,
      "toc_window_display": false
    },
    "colab": {
      "provenance": [],
      "include_colab_link": true
    }
  },
  "nbformat": 4,
  "nbformat_minor": 0
}